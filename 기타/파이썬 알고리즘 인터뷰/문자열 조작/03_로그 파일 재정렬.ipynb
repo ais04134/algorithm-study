{
 "cells": [
  {
   "cell_type": "markdown",
   "metadata": {},
   "source": [
    "# 로그 파일 재정렬   \n",
    "\n",
    "1. 로그의 가장 앞 부분은 식별자다.\n",
    "2. 문자로 구성된 로그가 숫자 로그보다 앞에 온다.\n",
    "3. 식별자는 순서에 영향을 끼치지 않지만, 문자가 동일한 경우 식별자 순으로 한다.\n",
    "4. 숫자 로그는 입력 순서대로 한다."
   ]
  },
  {
   "cell_type": "markdown",
   "metadata": {},
   "source": [
    "##### 풀이1. 람다와 + 연산자를 이용"
   ]
  },
  {
   "cell_type": "code",
   "execution_count": null,
   "metadata": {},
   "outputs": [],
   "source": [
    "def reorder_log_files(slef, logs: List[str]) -> List[str]:\n",
    "    letters, digits = [], []\n",
    "    for log in logs:\n",
    "        if log.split()[1].isdigit():\n",
    "            digits.append(log)\n",
    "        else:\n",
    "            letters.append(log)\n",
    "\n",
    "    # 2개의 키를 람다 표현식으로 정렬\n",
    "    letters.sort(key=lambda x: (x.split()[1:], x.split()[0]))\n",
    "    return letters + digits"
   ]
  }
 ],
 "metadata": {
  "language_info": {
   "name": "python"
  }
 },
 "nbformat": 4,
 "nbformat_minor": 2
}
