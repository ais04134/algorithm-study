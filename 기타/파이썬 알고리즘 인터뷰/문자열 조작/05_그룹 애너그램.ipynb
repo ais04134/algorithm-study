{
 "cells": [
  {
   "cell_type": "markdown",
   "metadata": {},
   "source": [
    "# 그룹 애너그램   \n",
    "문자열 배열을 받아 애너그램 단위로 그룹핑하라."
   ]
  },
  {
   "cell_type": "markdown",
   "metadata": {},
   "source": [
    "##### 풀이1. 정렬하여 딕셔너리에 추가"
   ]
  },
  {
   "cell_type": "code",
   "execution_count": null,
   "metadata": {},
   "outputs": [],
   "source": [
    "def group_anagrams(self, strs: List[str]) -> List[List[str]]:\n",
    "    anagrams = collections.defaultdict(list)\n",
    "\n",
    "    for word in strs:\n",
    "        # 정렬하여 딕셔너리에 추가\n",
    "        anagrams[''.join(sorted(word))].append(word)\n",
    "    return list(anagrams.values())"
   ]
  }
 ],
 "metadata": {
  "language_info": {
   "name": "python"
  }
 },
 "nbformat": 4,
 "nbformat_minor": 2
}
