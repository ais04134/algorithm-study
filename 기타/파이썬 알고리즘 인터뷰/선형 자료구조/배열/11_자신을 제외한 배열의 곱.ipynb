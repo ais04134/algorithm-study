{
 "cells": [
  {
   "cell_type": "markdown",
   "metadata": {},
   "source": [
    "# 자신을 제외한 배열의 곱   \n",
    "배열을 입력받아 output[i]가 자신을 제외한 나머지 모든 요소의 곱셈 결과가 되도록 출력하라."
   ]
  },
  {
   "cell_type": "code",
   "execution_count": null,
   "metadata": {},
   "outputs": [],
   "source": [
    "def product_except_self(self, nums: List[int]) -> List[int]:\n",
    "    out = []\n",
    "    p = 1\n",
    "    # 왼쪽 곱셈\n",
    "    for i in range(0, len(nums)):\n",
    "        out.append(p)\n",
    "        p = p*nums[i]\n",
    "    p = 1\n",
    "    # 왼쪽 곱셈 결과에 오른쪽 값을 차례대로 곱셈\n",
    "    for i in range(len(nums) -1, 0 - 1, -1):\n",
    "        out[i] = out[i]*p\n",
    "        p = p*nums[i]\n",
    "    return out"
   ]
  }
 ],
 "metadata": {
  "language_info": {
   "name": "python"
  }
 },
 "nbformat": 4,
 "nbformat_minor": 2
}
