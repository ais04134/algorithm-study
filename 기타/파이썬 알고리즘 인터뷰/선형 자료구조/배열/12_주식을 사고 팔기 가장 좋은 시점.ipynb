{
 "cells": [
  {
   "cell_type": "markdown",
   "metadata": {},
   "source": [
    "# 주식을 사고팔기 가장 좋은 시점   \n",
    "한 번의 거래로 낼 수 있는 최대 이익을 산출하라."
   ]
  },
  {
   "cell_type": "markdown",
   "metadata": {},
   "source": [
    "##### 풀이1. 브루트 포스로 계산"
   ]
  },
  {
   "cell_type": "code",
   "execution_count": null,
   "metadata": {},
   "outputs": [],
   "source": [
    "def max_profit(self, prices: List[int]) -> int:\n",
    "    max_price = 0\n",
    "\n",
    "    for i, price in enumerate(prices):\n",
    "        for j in range(i, len(prices)):\n",
    "            max_price = max(prices[j] - price, max_price)\n",
    "\n",
    "    return max_price"
   ]
  },
  {
   "cell_type": "markdown",
   "metadata": {},
   "source": [
    "##### 풀이2.저점과 현재 값과의 차이 계산"
   ]
  },
  {
   "cell_type": "code",
   "execution_count": null,
   "metadata": {},
   "outputs": [],
   "source": [
    "def max_profit(self, prices: List[int]) -> int:\n",
    "    profit = 0\n",
    "    min_price = sys.maxsize\n",
    "\n",
    "    # 최솟값과 최댓값을 계속 갱신\n",
    "    for price in prices:\n",
    "        min_price = min(min_price, price)\n",
    "        profit = max(profit, price - min_orice)\n",
    "\n",
    "    return profit"
   ]
  }
 ],
 "metadata": {
  "language_info": {
   "name": "python"
  }
 },
 "nbformat": 4,
 "nbformat_minor": 2
}
