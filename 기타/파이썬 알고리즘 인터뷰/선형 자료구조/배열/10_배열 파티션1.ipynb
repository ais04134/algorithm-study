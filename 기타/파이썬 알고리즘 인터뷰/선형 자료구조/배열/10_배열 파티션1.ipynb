{
 "cells": [
  {
   "cell_type": "markdown",
   "metadata": {},
   "source": [
    "# 배열 파티션1   \n",
    "n개의 페어를 이용한 min(a, b)의 합으로 만들 수 있는 가장 큰 수를 출력하라."
   ]
  },
  {
   "cell_type": "markdown",
   "metadata": {},
   "source": [
    "##### 풀이1. 오름차순 풀이"
   ]
  },
  {
   "cell_type": "code",
   "execution_count": null,
   "metadata": {},
   "outputs": [],
   "source": [
    "def array_pair_sum(self, nums:List[int]) -> int:\n",
    "    sum = 0\n",
    "    pair = []\n",
    "    num.sort()\n",
    "\n",
    "    for n in nums:\n",
    "        # 앞에서부터 오름차순으로 페어를 만들어서 합 계산\n",
    "        pair.append(n)\n",
    "        if len(pair) == 2:\n",
    "            sum += min(pair)\n",
    "            pair = []\n",
    "\n",
    "    return sum"
   ]
  },
  {
   "cell_type": "markdown",
   "metadata": {},
   "source": [
    "##### 풀이2. 짝수 번째 값 계산"
   ]
  },
  {
   "cell_type": "code",
   "execution_count": null,
   "metadata": {},
   "outputs": [],
   "source": [
    "def array_pair_sum(self, nums:List[int]) -> int:\n",
    "    sum = 0\n",
    "    num.sort()\n",
    "\n",
    "    for i, n in enumerate(nums):\n",
    "        # 짝수 번째 값의 합 계산\n",
    "        if i % 2 == 0:\n",
    "            sum += n\n",
    "\n",
    "    return sum"
   ]
  },
  {
   "cell_type": "markdown",
   "metadata": {},
   "source": [
    "##### 풀이3. 파이썬다운 방식"
   ]
  },
  {
   "cell_type": "code",
   "execution_count": null,
   "metadata": {},
   "outputs": [],
   "source": [
    "def array_pair_sum(self, nums:List[int]) -> int:\n",
    "    return sum(sorted(nums)[::2])"
   ]
  }
 ],
 "metadata": {
  "language_info": {
   "name": "python"
  }
 },
 "nbformat": 4,
 "nbformat_minor": 2
}
